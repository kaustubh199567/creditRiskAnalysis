{
 "cells": [
  {
   "cell_type": "code",
   "execution_count": 27,
   "id": "figured-target",
   "metadata": {},
   "outputs": [
    {
     "name": "stdout",
     "output_type": "stream",
     "text": [
      "(800, 20)\n",
      "(200, 20)\n"
     ]
    }
   ],
   "source": [
    "import numpy as np\n",
    "import pandas as pd\n",
    "\n",
    "import matplotlib.pyplot as plt\n",
    "import seaborn as sns\n",
    "\n",
    "from sklearn.model_selection import train_test_split\n",
    "from sklearn.ensemble import RandomForestClassifier,GradientBoostingClassifier\n",
    "from sklearn.svm import SVC\n",
    "from sklearn.linear_model import LogisticRegression\n",
    "import xgboost as xgb\n",
    "from sklearn.metrics import accuracy_score, confusion_matrix,classification_report, roc_auc_score, roc_curve\n",
    "#from imblearn.over_sampling import SMOTE\n",
    "from sklearn.model_selection import train_test_split\n",
    "#from imblearn.ensemble import BalancedRandomForestClassifier\n",
    "\n",
    "df = pd.read_csv('index.csv')\n",
    "\n",
    "df.head()\n",
    "\n",
    "df.shape\n",
    "\n",
    "X = df.iloc[:,1:]\n",
    "y = df.iloc[:, 0]\n",
    "\n",
    "X_train,X_test,y_train,y_test = train_test_split(X,y,test_size=0.2,random_state=10)\n",
    "\n",
    "print(X_train.shape)\n",
    "print(X_test.shape)"
   ]
  },
  {
   "cell_type": "code",
   "execution_count": 28,
   "id": "covered-farming",
   "metadata": {},
   "outputs": [],
   "source": [
    "#gb = GradientBoostingClassifier()\n",
    "svc = SVC(probability=True)\n",
    "lr = LogisticRegression() \n",
    "#balancedRF = BalancedRandomForestClassifier(random_state=42)\n",
    "# Oversample using SMOTE\n",
    "#smote = SMOTE(random_state=42)\n",
    "rf = RandomForestClassifier()\n",
    "# Train XGBoost with class weights\n",
    "xgbb = xgb.XGBClassifier(\n",
    "    objective='binary:logistic',\n",
    "    eval_metric='logloss',\n",
    "    use_label_encoder=False,\n",
    ")\n",
    "#rf_smote = RandomForestClassifier()\n",
    "#xgbb_smote = xgb.XGBClassifier(\n",
    "    #objective='binary:logistic',\n",
    "    #eval_metric='logloss',\n",
    "    #use_label_encoder=False,\n",
    "#)"
   ]
  },
  {
   "cell_type": "code",
   "execution_count": 29,
   "id": "excited-marina",
   "metadata": {},
   "outputs": [
    {
     "name": "stderr",
     "output_type": "stream",
     "text": [
      "c:\\users\\hp\\appdata\\local\\programs\\python\\python37\\lib\\site-packages\\sklearn\\linear_model\\_logistic.py:818: ConvergenceWarning: lbfgs failed to converge (status=1):\n",
      "STOP: TOTAL NO. of ITERATIONS REACHED LIMIT.\n",
      "\n",
      "Increase the number of iterations (max_iter) or scale the data as shown in:\n",
      "    https://scikit-learn.org/stable/modules/preprocessing.html\n",
      "Please also refer to the documentation for alternative solver options:\n",
      "    https://scikit-learn.org/stable/modules/linear_model.html#logistic-regression\n",
      "  extra_warning_msg=_LOGISTIC_SOLVER_CONVERGENCE_MSG,\n"
     ]
    },
    {
     "data": {
      "text/plain": [
       "XGBClassifier(base_score=0.5, booster='gbtree', callbacks=None,\n",
       "              colsample_bylevel=1, colsample_bynode=1, colsample_bytree=1,\n",
       "              early_stopping_rounds=None, enable_categorical=False,\n",
       "              eval_metric='logloss', gamma=0, gpu_id=-1,\n",
       "              grow_policy='depthwise', importance_type=None,\n",
       "              interaction_constraints='', learning_rate=0.300000012,\n",
       "              max_bin=256, max_cat_to_onehot=4, max_delta_step=0, max_depth=6,\n",
       "              max_leaves=0, min_child_weight=1, missing=nan,\n",
       "              monotone_constraints='()', n_estimators=100, n_jobs=0,\n",
       "              num_parallel_tree=1, predictor='auto', random_state=0,\n",
       "              reg_alpha=0, reg_lambda=1, ...)"
      ]
     },
     "execution_count": 29,
     "metadata": {},
     "output_type": "execute_result"
    }
   ],
   "source": [
    "lr.fit(X_train,y_train)\n",
    "svc.fit(X_train,y_train)\n",
    "#balancedRF.fit(X_train, y_train)\n",
    "rf.fit(X_train, y_train)\n",
    "xgbb.fit(X_train, y_train)\n",
    "\n",
    "#X_train_smote, y_train_smote = smote.fit_resample(X_train, y_train)\n",
    "#rf_smote.fit(X_train_smote, y_train_smote)\n",
    "#xgbb_smote.fit(X_train_smote, y_train_smote)"
   ]
  },
  {
   "cell_type": "code",
   "execution_count": 18,
   "id": "charitable-logistics",
   "metadata": {},
   "outputs": [
    {
     "name": "stdout",
     "output_type": "stream",
     "text": [
      "[[ 28  39]\n",
      " [ 18 115]]\n",
      "              precision    recall  f1-score   support\n",
      "\n",
      "           0       0.61      0.42      0.50        67\n",
      "           1       0.75      0.86      0.80       133\n",
      "\n",
      "    accuracy                           0.71       200\n",
      "   macro avg       0.68      0.64      0.65       200\n",
      "weighted avg       0.70      0.71      0.70       200\n",
      "\n"
     ]
    },
    {
     "name": "stderr",
     "output_type": "stream",
     "text": [
      "c:\\users\\hp\\appdata\\local\\programs\\python\\python37\\lib\\site-packages\\sklearn\\linear_model\\_logistic.py:818: ConvergenceWarning: lbfgs failed to converge (status=1):\n",
      "STOP: TOTAL NO. of ITERATIONS REACHED LIMIT.\n",
      "\n",
      "Increase the number of iterations (max_iter) or scale the data as shown in:\n",
      "    https://scikit-learn.org/stable/modules/preprocessing.html\n",
      "Please also refer to the documentation for alternative solver options:\n",
      "    https://scikit-learn.org/stable/modules/linear_model.html#logistic-regression\n",
      "  extra_warning_msg=_LOGISTIC_SOLVER_CONVERGENCE_MSG,\n"
     ]
    }
   ],
   "source": []
  },
  {
   "cell_type": "code",
   "execution_count": 19,
   "id": "elder-calcium",
   "metadata": {},
   "outputs": [
    {
     "name": "stdout",
     "output_type": "stream",
     "text": [
      "[[ 33  34]\n",
      " [ 15 118]]\n",
      "              precision    recall  f1-score   support\n",
      "\n",
      "           0       0.69      0.49      0.57        67\n",
      "           1       0.78      0.89      0.83       133\n",
      "\n",
      "    accuracy                           0.76       200\n",
      "   macro avg       0.73      0.69      0.70       200\n",
      "weighted avg       0.75      0.76      0.74       200\n",
      "\n"
     ]
    }
   ],
   "source": []
  },
  {
   "cell_type": "code",
   "execution_count": 20,
   "id": "magnetic-september",
   "metadata": {},
   "outputs": [
    {
     "name": "stdout",
     "output_type": "stream",
     "text": [
      "[[  5  62]\n",
      " [  5 128]]\n",
      "              precision    recall  f1-score   support\n",
      "\n",
      "           0       0.50      0.07      0.13        67\n",
      "           1       0.67      0.96      0.79       133\n",
      "\n",
      "    accuracy                           0.67       200\n",
      "   macro avg       0.59      0.52      0.46       200\n",
      "weighted avg       0.62      0.67      0.57       200\n",
      "\n"
     ]
    }
   ],
   "source": []
  },
  {
   "cell_type": "code",
   "execution_count": 31,
   "id": "thirty-character",
   "metadata": {},
   "outputs": [
    {
     "data": {
      "image/png": "[encoded data removed]",
      "text/plain": [
       "<Figure size 720x432 with 1 Axes>"
      ]
     },
     "metadata": {
      "needs_background": "light"
     },
     "output_type": "display_data"
    }
   ],
   "source": [
    "y_prob_lr = lr.predict_proba(X_test)[:, 1]\n",
    "y_prob_svc = svc.predict_proba(X_test)[:, 1]\n",
    "y_prob_rf = rf.predict_proba(X_test)[:, 1]\n",
    "y_prob_xgb = xgbb.predict_proba(X_test)[:, 1]\n",
    "#y_prob_brf = balancedRF.predict_proba(X_test)[:, 1]\n",
    "#y_prob_xgb_smote = xgbb_smote.predict_proba(X_test)[:, 1]\n",
    "#y_prob_rf = rf_smote.predict_proba(X_test)[:, 1]\n",
    "\n",
    "# Plot ROC Curve for LR\n",
    "fpr_lr, tpr_lr, _ = roc_curve(y_test, y_prob_lr)\n",
    "plt.figure(figsize=(10, 6))\n",
    "plt.plot(fpr_lr, tpr_lr, label='LR ROC curve (area = %0.2f)' % roc_auc_score(y_test, y_prob_lr))\n",
    "# Plot ROC Curve for SVC\n",
    "fpr_svc, tpr_svc, _ = roc_curve(y_test, y_prob_svc)\n",
    "plt.plot(fpr_svc, tpr_svc, label='SVC ROC curve (area = %0.2f)' % roc_auc_score(y_test, y_prob_svc))\n",
    "# Plot ROC Curve for Random Forest\n",
    "fpr_rf, tpr_rf, _ = roc_curve(y_test, y_prob_rf)\n",
    "plt.plot(fpr_rf, tpr_rf, label='Random Forest ROC curve (area = %0.2f)' % roc_auc_score(y_test, y_prob_rf))\n",
    "# Plot ROC Curve for XGBoost\n",
    "fpr_xgb, tpr_xgb, _ = roc_curve(y_test, y_prob_xgb)\n",
    "plt.plot(fpr_xgb, tpr_xgb, label='XGBoost ROC curve (area = %0.2f)' % roc_auc_score(y_test, y_prob_xgb))\n",
    "# Plot ROC Curve for BalancedRF\n",
    "#fpr_brf, tpr_brf, _ = roc_curve(y_test, y_prob_brf)\n",
    "#plt.plot(fpr_brf, tpr_brf, label='BalancedRF ROC curve (area = %0.2f)' % roc_auc_score(y_test, y_prob_brf))\n",
    "\n",
    "plt.xlabel('False Positive Rate')\n",
    "plt.ylabel('True Positive Rate')\n",
    "plt.title('Receiver Operating Characteristic (ROC)')\n",
    "plt.legend(loc='best')\n",
    "plt.grid(True)\n",
    "plt.show()"
   ]
  },
  {
   "cell_type": "code",
   "execution_count": null,
   "id": "choice-oracle",
   "metadata": {},
   "outputs": [],
   "source": [
    "lr.fit(X_train,y_train)\n",
    "y_pred_lr = lr.predict(X_test)\n",
    "accuracy_score(y_test,y_pred_lr)\n",
    "# Evaluate the model\n",
    "print(confusion_matrix(y_test, y_pred_lr))\n",
    "print(classification_report(y_test, y_pred_lr))\n",
    "\n",
    "svc.fit(X_train,y_train)\n",
    "y_pred_svc = svc.predict(X_test)\n",
    "accuracy_score(y_test,y_pred_svc)\n",
    "# Evaluate the model\n",
    "print(confusion_matrix(y_test, y_pred_svc))\n",
    "print(classification_report(y_test, y_pred_svc))\n",
    "\n",
    "#gb.fit(X_train,y_train)\n",
    "#y_pred_gb = gb.predict(X_test)\n",
    "#accuracy_score(y_test,y_pred_gb)\n",
    "# Evaluate the model\n",
    "#print(confusion_matrix(y_test, y_pred_gb))\n",
    "#print(classification_report(y_test, y_pred_gb))"
   ]
  },
  {
   "cell_type": "code",
   "execution_count": null,
   "id": "posted-compact",
   "metadata": {},
   "outputs": [],
   "source": [
    "# Number of trees in random forest\n",
    "n_estimators = [100, 120]\n",
    "\n",
    "# Number of features to consider at every split\n",
    "max_features = [0.8,0.85]\n",
    "\n",
    "# Maximum number of levels in tree\n",
    "max_depth = [2,None]\n",
    "\n",
    "# Number of samples\n",
    "max_samples = [0.5]\n",
    "\n",
    "# 108 diff random forest train\n",
    "\n",
    "param_grid = {'n_estimators': n_estimators,\n",
    "               'max_features': max_features,\n",
    "               'max_depth': max_depth,\n",
    "              'max_samples':max_samples\n",
    "             }\n",
    "\n",
    "rf_grid_rf = RandomForestClassifier()\n",
    "\n",
    "from sklearn.model_selection import GridSearchCV\n",
    "\n",
    "rf_grid = GridSearchCV(estimator = rf_grid_rf, \n",
    "                       param_grid = param_grid, \n",
    "                       cv = 5, \n",
    "                       verbose=2, \n",
    "                       n_jobs = -1)\n",
    "\n",
    "rf_grid.fit(X_train,y_train)"
   ]
  }
 ],
 "metadata": {
  "kernelspec": {
   "display_name": "Python 3",
   "language": "python",
   "name": "python3"
  },
  "language_info": {
   "codemirror_mode": {
    "name": "ipython",
    "version": 3
   },
   "file_extension": ".py",
   "mimetype": "text/x-python",
   "name": "python",
   "nbconvert_exporter": "python",
   "pygments_lexer": "ipython3",
   "version": "3.7.9"
  }
 },
 "nbformat": 4,
 "nbformat_minor": 5
}
